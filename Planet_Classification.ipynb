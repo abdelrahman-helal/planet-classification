{
  "cells": [
    {
      "cell_type": "markdown",
      "metadata": {
        "id": "view-in-github",
        "colab_type": "text"
      },
      "source": [
        "<a href=\"https://colab.research.google.com/github/abdelrahman-helal/planet-classification/blob/main/Planet_Classification.ipynb\" target=\"_parent\"><img src=\"https://colab.research.google.com/assets/colab-badge.svg\" alt=\"Open In Colab\"/></a>"
      ]
    },
    {
      "cell_type": "markdown",
      "metadata": {
        "id": "ZJKSLpFM6COA"
      },
      "source": [
        "**About the Model**\n",
        "\n",
        "I have built two neural network models and compared their performance in classifying images of the solar system planets.\n",
        "\n",
        "**Dataset**\n",
        "\n",
        "I used a public dataset collected and handled by Emirhan BULUT from https://github.com/emirhanai/Planets-and-Moons-Dataset-AI-in-Space\n",
        "\n"
      ]
    },
    {
      "cell_type": "markdown",
      "source": [
        "# Importing Libraries"
      ],
      "metadata": {
        "id": "ywqFjy5DqgbC"
      }
    },
    {
      "cell_type": "code",
      "execution_count": 140,
      "metadata": {
        "id": "wvWKUGhuujIO"
      },
      "outputs": [],
      "source": [
        "import os\n",
        "import pathlib\n",
        "import random\n",
        "import imghdr\n",
        "import cv2\n",
        "from google.colab.patches import cv2_imshow\n",
        "import matplotlib.pyplot as plt\n",
        "import numpy as np\n",
        "import pandas as pd\n",
        "import tensorflow as tf\n",
        "import tensorflow_datasets as tfds\n",
        "from tensorflow import keras"
      ]
    },
    {
      "cell_type": "markdown",
      "source": [
        "# Accessing the Images and Checking their Format and Shape"
      ],
      "metadata": {
        "id": "Ydw02lIRs5XO"
      }
    },
    {
      "cell_type": "code",
      "execution_count": 139,
      "metadata": {
        "colab": {
          "base_uri": "https://localhost:8080/"
        },
        "id": "HQl-fOt7tW3b",
        "outputId": "ab72f662-6c79-4853-c655-7f659d89e7a8"
      },
      "outputs": [
        {
          "output_type": "stream",
          "name": "stdout",
          "text": [
            "There are 1192 images in 8 classes\n"
          ]
        }
      ],
      "source": [
        "data_dir = pathlib.Path('/content/drive/MyDrive/Planets_Moons_Data').with_suffix('')\n",
        "imgs = list(data_dir.glob('*/*jpg'))\n",
        "num_imgs = len(imgs)\n",
        "print(f'There are {num_imgs} images in {len(list(os.listdir(data_dir)))} classes')\n"
      ]
    },
    {
      "cell_type": "code",
      "execution_count": 5,
      "metadata": {
        "id": "HJIDeYXNE6iV",
        "colab": {
          "base_uri": "https://localhost:8080/"
        },
        "outputId": "eed5c058-b406-4efe-990f-24d29c1e4acf"
      },
      "outputs": [
        {
          "output_type": "stream",
          "name": "stdout",
          "text": [
            "All images are supported\n"
          ]
        }
      ],
      "source": [
        "img_format = ['jpeg', 'png', 'bmp', 'gif'] # formats supported by tensorflow\n",
        "non_imgs = []\n",
        "for img in imgs:\n",
        "  # looping over all images to check their format is supported by tensorflow\n",
        "  if imghdr.what(img).lower() not in img_format:\n",
        "    current_img = cv2.imread(str(img))\n",
        "    cv2.imwrite(str(img)[:-3] + 'jpg', current_img, [int(cv2.IMWRITE_JPEG_QUALITY), 100])\n",
        "print('All images are supported')\n"
      ]
    },
    {
      "cell_type": "code",
      "execution_count": 6,
      "metadata": {
        "colab": {
          "base_uri": "https://localhost:8080/",
          "height": 196
        },
        "id": "7qUS9N9ZrZp8",
        "outputId": "86b39ef1-67f7-4040-8fe9-71a411590492"
      },
      "outputs": [
        {
          "output_type": "stream",
          "name": "stdout",
          "text": [
            "There are 149 images for Jupiter\n",
            "Image 34 has a shape of (144, 256, 3)\n"
          ]
        },
        {
          "output_type": "display_data",
          "data": {
            "text/plain": [
              "<PIL.Image.Image image mode=RGB size=256x144>"
            ],
            "image/png": "[encoded data removed]"
          },
          "metadata": {}
        }
      ],
      "source": [
        "# Checking the number of images in the given planet class and showing a random image from that class\n",
        "def planet(planet_name, directory):\n",
        "  planet_dir = os.path.join(directory, planet_name)\n",
        "  planet_imgs = os.listdir(planet_dir)\n",
        "  print(f'There are {len(planet_imgs)} images for {planet_name}')\n",
        "\n",
        "  random.seed(1)\n",
        "  index = random.randint(0, len(planet_imgs))\n",
        "  random_image = cv2.imread(str(os.path.join(planet_dir, planet_imgs[index])))\n",
        "  print(f'Image {index} has a shape of {random_image.shape}')\n",
        "\n",
        "  cv2_imshow(random_image)\n",
        "  cv2.waitKey(0)\n",
        "  cv2.destroyAllWindows()\n",
        "\n",
        "planet('Jupiter', data_dir)"
      ]
    },
    {
      "cell_type": "code",
      "execution_count": 7,
      "metadata": {
        "id": "EbMUmguzB0Mb"
      },
      "outputs": [],
      "source": [
        "# taking a 100 random images to check their shape as an indicative of the rest of the dataset\n",
        "random.seed(2)\n",
        "indices = random.sample(range(num_imgs), 100)\n",
        "rand_imgs= []\n",
        "\n",
        "for index in indices:\n",
        "  rand_imgs.append(imgs[index])\n",
        "\n",
        "imgs_shape = []\n",
        "for i in rand_imgs:\n",
        "  img = cv2.imread(str(i))\n",
        "  imgs_shape.append(img.shape)\n"
      ]
    },
    {
      "cell_type": "code",
      "execution_count": 8,
      "metadata": {
        "colab": {
          "base_uri": "https://localhost:8080/",
          "height": 300
        },
        "id": "tWrDZ6AE8jhs",
        "outputId": "62f66923-553c-4541-9a0e-1ed3329139f0"
      },
      "outputs": [
        {
          "output_type": "execute_result",
          "data": {
            "text/plain": [
              "       Height  Width  Channels\n",
              "count   100.0  100.0     100.0\n",
              "mean    144.0  256.0       3.0\n",
              "std       0.0    0.0       0.0\n",
              "min     144.0  256.0       3.0\n",
              "25%     144.0  256.0       3.0\n",
              "50%     144.0  256.0       3.0\n",
              "75%     144.0  256.0       3.0\n",
              "max     144.0  256.0       3.0"
            ],
            "text/html": [
              "\n",
              "  <div id=\"df-2fc208bb-952a-4261-af36-111d1c536bf2\" class=\"colab-df-container\">\n",
              "    <div>\n",
              "<style scoped>\n",
              "    .dataframe tbody tr th:only-of-type {\n",
              "        vertical-align: middle;\n",
              "    }\n",
              "\n",
              "    .dataframe tbody tr th {\n",
              "        vertical-align: top;\n",
              "    }\n",
              "\n",
              "    .dataframe thead th {\n",
              "        text-align: right;\n",
              "    }\n",
              "</style>\n",
              "<table border=\"1\" class=\"dataframe\">\n",
              "  <thead>\n",
              "    <tr style=\"text-align: right;\">\n",
              "      <th></th>\n",
              "      <th>Height</th>\n",
              "      <th>Width</th>\n",
              "      <th>Channels</th>\n",
              "    </tr>\n",
              "  </thead>\n",
              "  <tbody>\n",
              "    <tr>\n",
              "      <th>count</th>\n",
              "      <td>100.0</td>\n",
              "      <td>100.0</td>\n",
              "      <td>100.0</td>\n",
              "    </tr>\n",
              "    <tr>\n",
              "      <th>mean</th>\n",
              "      <td>144.0</td>\n",
              "      <td>256.0</td>\n",
              "      <td>3.0</td>\n",
              "    </tr>\n",
              "    <tr>\n",
              "      <th>std</th>\n",
              "      <td>0.0</td>\n",
              "      <td>0.0</td>\n",
              "      <td>0.0</td>\n",
              "    </tr>\n",
              "    <tr>\n",
              "      <th>min</th>\n",
              "      <td>144.0</td>\n",
              "      <td>256.0</td>\n",
              "      <td>3.0</td>\n",
              "    </tr>\n",
              "    <tr>\n",
              "      <th>25%</th>\n",
              "      <td>144.0</td>\n",
              "      <td>256.0</td>\n",
              "      <td>3.0</td>\n",
              "    </tr>\n",
              "    <tr>\n",
              "      <th>50%</th>\n",
              "      <td>144.0</td>\n",
              "      <td>256.0</td>\n",
              "      <td>3.0</td>\n",
              "    </tr>\n",
              "    <tr>\n",
              "      <th>75%</th>\n",
              "      <td>144.0</td>\n",
              "      <td>256.0</td>\n",
              "      <td>3.0</td>\n",
              "    </tr>\n",
              "    <tr>\n",
              "      <th>max</th>\n",
              "      <td>144.0</td>\n",
              "      <td>256.0</td>\n",
              "      <td>3.0</td>\n",
              "    </tr>\n",
              "  </tbody>\n",
              "</table>\n",
              "</div>\n",
              "    <div class=\"colab-df-buttons\">\n",
              "\n",
              "  <div class=\"colab-df-container\">\n",
              "    <button class=\"colab-df-convert\" onclick=\"convertToInteractive('df-2fc208bb-952a-4261-af36-111d1c536bf2')\"\n",
              "            title=\"Convert this dataframe to an interactive table.\"\n",
              "            style=\"display:none;\">\n",
              "\n",
              "  <svg xmlns=\"http://www.w3.org/2000/svg\" height=\"24px\" viewBox=\"0 -960 960 960\">\n",
              "    <path d=\"M120-120v-720h720v720H120Zm60-500h600v-160H180v160Zm220 220h160v-160H400v160Zm0 220h160v-160H400v160ZM180-400h160v-160H180v160Zm440 0h160v-160H620v160ZM180-180h160v-160H180v160Zm440 0h160v-160H620v160Z\"/>\n",
              "  </svg>\n",
              "    </button>\n",
              "\n",
              "  <style>\n",
              "    .colab-df-container {\n",
              "      display:flex;\n",
              "      gap: 12px;\n",
              "    }\n",
              "\n",
              "    .colab-df-convert {\n",
              "      background-color: #E8F0FE;\n",
              "      border: none;\n",
              "      border-radius: 50%;\n",
              "      cursor: pointer;\n",
              "      display: none;\n",
              "      fill: #1967D2;\n",
              "      height: 32px;\n",
              "      padding: 0 0 0 0;\n",
              "      width: 32px;\n",
              "    }\n",
              "\n",
              "    .colab-df-convert:hover {\n",
              "      background-color: #E2EBFA;\n",
              "      box-shadow: 0px 1px 2px rgba(60, 64, 67, 0.3), 0px 1px 3px 1px rgba(60, 64, 67, 0.15);\n",
              "      fill: #174EA6;\n",
              "    }\n",
              "\n",
              "    .colab-df-buttons div {\n",
              "      margin-bottom: 4px;\n",
              "    }\n",
              "\n",
              "    [theme=dark] .colab-df-convert {\n",
              "      background-color: #3B4455;\n",
              "      fill: #D2E3FC;\n",
              "    }\n",
              "\n",
              "    [theme=dark] .colab-df-convert:hover {\n",
              "      background-color: #434B5C;\n",
              "      box-shadow: 0px 1px 3px 1px rgba(0, 0, 0, 0.15);\n",
              "      filter: drop-shadow(0px 1px 2px rgba(0, 0, 0, 0.3));\n",
              "      fill: #FFFFFF;\n",
              "    }\n",
              "  </style>\n",
              "\n",
              "    <script>\n",
              "      const buttonEl =\n",
              "        document.querySelector('#df-2fc208bb-952a-4261-af36-111d1c536bf2 button.colab-df-convert');\n",
              "      buttonEl.style.display =\n",
              "        google.colab.kernel.accessAllowed ? 'block' : 'none';\n",
              "\n",
              "      async function convertToInteractive(key) {\n",
              "        const element = document.querySelector('#df-2fc208bb-952a-4261-af36-111d1c536bf2');\n",
              "        const dataTable =\n",
              "          await google.colab.kernel.invokeFunction('convertToInteractive',\n",
              "                                                    [key], {});\n",
              "        if (!dataTable) return;\n",
              "\n",
              "        const docLinkHtml = 'Like what you see? Visit the ' +\n",
              "          '<a target=\"_blank\" href=https://colab.research.google.com/notebooks/data_table.ipynb>data table notebook</a>'\n",
              "          + ' to learn more about interactive tables.';\n",
              "        element.innerHTML = '';\n",
              "        dataTable['output_type'] = 'display_data';\n",
              "        await google.colab.output.renderOutput(dataTable, element);\n",
              "        const docLink = document.createElement('div');\n",
              "        docLink.innerHTML = docLinkHtml;\n",
              "        element.appendChild(docLink);\n",
              "      }\n",
              "    </script>\n",
              "  </div>\n",
              "\n",
              "\n",
              "<div id=\"df-2348e3e5-f86d-4f12-b18f-a2e6c83fda5c\">\n",
              "  <button class=\"colab-df-quickchart\" onclick=\"quickchart('df-2348e3e5-f86d-4f12-b18f-a2e6c83fda5c')\"\n",
              "            title=\"Suggest charts.\"\n",
              "            style=\"display:none;\">\n",
              "\n",
              "<svg xmlns=\"http://www.w3.org/2000/svg\" height=\"24px\"viewBox=\"0 0 24 24\"\n",
              "     width=\"24px\">\n",
              "    <g>\n",
              "        <path d=\"M19 3H5c-1.1 0-2 .9-2 2v14c0 1.1.9 2 2 2h14c1.1 0 2-.9 2-2V5c0-1.1-.9-2-2-2zM9 17H7v-7h2v7zm4 0h-2V7h2v10zm4 0h-2v-4h2v4z\"/>\n",
              "    </g>\n",
              "</svg>\n",
              "  </button>\n",
              "\n",
              "<style>\n",
              "  .colab-df-quickchart {\n",
              "    background-color: #E8F0FE;\n",
              "    border: none;\n",
              "    border-radius: 50%;\n",
              "    cursor: pointer;\n",
              "    display: none;\n",
              "    fill: #1967D2;\n",
              "    height: 32px;\n",
              "    padding: 0 0 0 0;\n",
              "    width: 32px;\n",
              "  }\n",
              "\n",
              "  .colab-df-quickchart:hover {\n",
              "    background-color: #E2EBFA;\n",
              "    box-shadow: 0px 1px 2px rgba(60, 64, 67, 0.3), 0px 1px 3px 1px rgba(60, 64, 67, 0.15);\n",
              "    fill: #174EA6;\n",
              "  }\n",
              "\n",
              "  [theme=dark] .colab-df-quickchart {\n",
              "    background-color: #3B4455;\n",
              "    fill: #D2E3FC;\n",
              "  }\n",
              "\n",
              "  [theme=dark] .colab-df-quickchart:hover {\n",
              "    background-color: #434B5C;\n",
              "    box-shadow: 0px 1px 3px 1px rgba(0, 0, 0, 0.15);\n",
              "    filter: drop-shadow(0px 1px 2px rgba(0, 0, 0, 0.3));\n",
              "    fill: #FFFFFF;\n",
              "  }\n",
              "</style>\n",
              "\n",
              "  <script>\n",
              "    async function quickchart(key) {\n",
              "      const charts = await google.colab.kernel.invokeFunction(\n",
              "          'suggestCharts', [key], {});\n",
              "    }\n",
              "    (() => {\n",
              "      let quickchartButtonEl =\n",
              "        document.querySelector('#df-2348e3e5-f86d-4f12-b18f-a2e6c83fda5c button');\n",
              "      quickchartButtonEl.style.display =\n",
              "        google.colab.kernel.accessAllowed ? 'block' : 'none';\n",
              "    })();\n",
              "  </script>\n",
              "</div>\n",
              "    </div>\n",
              "  </div>\n"
            ]
          },
          "metadata": {},
          "execution_count": 8
        }
      ],
      "source": [
        "df = pd.DataFrame(imgs_shape, columns = ['Height', 'Width', 'Channels'])\n",
        "df.describe()"
      ]
    },
    {
      "cell_type": "markdown",
      "source": [
        "# Preparing Data\n",
        "\n",
        "Since all the images have the same shape (144, 256, 3), this will be the image size in processing the data."
      ],
      "metadata": {
        "id": "23gdWd9hutoN"
      }
    },
    {
      "cell_type": "code",
      "execution_count": 9,
      "metadata": {
        "id": "fRBUoEXNAW-v"
      },
      "outputs": [],
      "source": [
        "image_height = 144\n",
        "image_width = 256\n",
        "batch_size = 32"
      ]
    },
    {
      "cell_type": "code",
      "execution_count": 137,
      "metadata": {
        "colab": {
          "base_uri": "https://localhost:8080/"
        },
        "id": "rdHVJ6z2HYaW",
        "outputId": "5e636c0d-8dce-4641-ea04-3aa64a722079"
      },
      "outputs": [
        {
          "output_type": "stream",
          "name": "stdout",
          "text": [
            "Found 1192 files belonging to 8 classes.\n",
            "Using 954 files for training.\n"
          ]
        }
      ],
      "source": [
        "training_set = tf.keras.utils.image_dataset_from_directory(\n",
        "    data_dir,\n",
        "    validation_split= 0.2,\n",
        "    subset = 'training',\n",
        "    seed = 123,\n",
        "    image_size = (image_height, image_width),\n",
        "    batch_size = batch_size\n",
        ")"
      ]
    },
    {
      "cell_type": "code",
      "execution_count": 46,
      "metadata": {
        "colab": {
          "base_uri": "https://localhost:8080/"
        },
        "id": "JlLh3QSKIYWg",
        "outputId": "0c37bfb3-25c3-4aa1-94ba-10497c9c972c"
      },
      "outputs": [
        {
          "output_type": "stream",
          "name": "stdout",
          "text": [
            "Found 1192 files belonging to 8 classes.\n",
            "Using 238 files for validation.\n"
          ]
        }
      ],
      "source": [
        "validation_set = tf.keras.utils.image_dataset_from_directory(\n",
        "    data_dir,\n",
        "    validation_split= 0.2,\n",
        "    subset = 'validation',\n",
        "    seed = 123,\n",
        "    image_size = (image_height, image_width),\n",
        "    batch_size = batch_size\n",
        ")"
      ]
    },
    {
      "cell_type": "code",
      "source": [
        "train_set = training_set.cache()\n",
        "validation_set = validation_set.cache()"
      ],
      "metadata": {
        "id": "Px79_Opdk_aK"
      },
      "execution_count": 114,
      "outputs": []
    },
    {
      "cell_type": "markdown",
      "source": [
        "# Building the First Model\n",
        "\n",
        "It consists of three dense layers (input layer, output layer, and one hidden layer) in addition to the Flatten and Rescaling layers as a preprocessing step and a dropout layer to reduce overfitting."
      ],
      "metadata": {
        "id": "FU2B2IU2vR32"
      }
    },
    {
      "cell_type": "code",
      "execution_count": 13,
      "metadata": {
        "id": "cO8g3JMkIgZo"
      },
      "outputs": [],
      "source": [
        "model = tf.keras.Sequential([\n",
        "    tf.keras.layers.Flatten(),\n",
        "    tf.keras.layers.Rescaling(1./225),\n",
        "    tf.keras.layers.Dense(128, activation = 'relu'),\n",
        "    keras.layers.Dropout(0.2),\n",
        "    tf.keras.layers.Dense(64, activation = 'relu'),\n",
        "    tf.keras.layers.Dense(8, activation = 'linear')\n",
        "])\n"
      ]
    },
    {
      "cell_type": "code",
      "source": [
        "model.summary()"
      ],
      "metadata": {
        "colab": {
          "base_uri": "https://localhost:8080/"
        },
        "id": "ptCmKyvapuge",
        "outputId": "0c7faafa-66c3-4154-f3f9-161694daf864"
      },
      "execution_count": 135,
      "outputs": [
        {
          "output_type": "stream",
          "name": "stdout",
          "text": [
            "Model: \"sequential\"\n",
            "_________________________________________________________________\n",
            " Layer (type)                Output Shape              Param #   \n",
            "=================================================================\n",
            " flatten (Flatten)           (None, None)              0         \n",
            "                                                                 \n",
            " rescaling (Rescaling)       (None, None)              0         \n",
            "                                                                 \n",
            " dense (Dense)               (None, 128)               14155904  \n",
            "                                                                 \n",
            " dropout (Dropout)           (None, 128)               0         \n",
            "                                                                 \n",
            " dense_1 (Dense)             (None, 64)                8256      \n",
            "                                                                 \n",
            " dense_2 (Dense)             (None, 8)                 520       \n",
            "                                                                 \n",
            "=================================================================\n",
            "Total params: 14,164,680\n",
            "Trainable params: 14,164,680\n",
            "Non-trainable params: 0\n",
            "_________________________________________________________________\n"
          ]
        }
      ]
    },
    {
      "cell_type": "code",
      "source": [
        "callback = tf.keras.callbacks.EarlyStopping(monitor= 'val_loss',\n",
        "                                            patience = 3,\n",
        "                                            min_delta = 0.01)\n",
        "# The model will do an early stopping if the validation loss does not improve by more than 0.01 for 3 epochs"
      ],
      "metadata": {
        "id": "CB5LXPUAHmWP"
      },
      "execution_count": 14,
      "outputs": []
    },
    {
      "cell_type": "code",
      "execution_count": 16,
      "metadata": {
        "id": "QDyXamoPYUmC"
      },
      "outputs": [],
      "source": [
        "model.compile(\n",
        "    optimizer = 'adam',\n",
        "    loss = tf.keras.losses.SparseCategoricalCrossentropy(from_logits = True),\n",
        "    metrics = ['accuracy']\n",
        ")"
      ]
    },
    {
      "cell_type": "code",
      "execution_count": 17,
      "metadata": {
        "colab": {
          "base_uri": "https://localhost:8080/"
        },
        "id": "2Z7OHGK_Zice",
        "outputId": "93c0673e-2b9a-49bc-86e5-924aacbd62c9"
      },
      "outputs": [
        {
          "output_type": "stream",
          "name": "stdout",
          "text": [
            "Epoch 1/20\n",
            "30/30 [==============================] - 16s 456ms/step - loss: 5.0792 - accuracy: 0.4748 - val_loss: 0.6192 - val_accuracy: 0.7185\n",
            "Epoch 2/20\n",
            "30/30 [==============================] - 11s 362ms/step - loss: 0.6469 - accuracy: 0.8061 - val_loss: 0.4566 - val_accuracy: 0.8613\n",
            "Epoch 3/20\n",
            "30/30 [==============================] - 9s 300ms/step - loss: 0.3338 - accuracy: 0.8994 - val_loss: 0.0695 - val_accuracy: 0.9916\n",
            "Epoch 4/20\n",
            "30/30 [==============================] - 10s 330ms/step - loss: 0.1926 - accuracy: 0.9413 - val_loss: 0.0432 - val_accuracy: 0.9958\n",
            "Epoch 5/20\n",
            "30/30 [==============================] - 10s 354ms/step - loss: 0.1704 - accuracy: 0.9486 - val_loss: 0.0637 - val_accuracy: 0.9916\n",
            "Epoch 6/20\n",
            "30/30 [==============================] - 10s 324ms/step - loss: 0.1469 - accuracy: 0.9486 - val_loss: 0.0198 - val_accuracy: 0.9916\n",
            "Epoch 7/20\n",
            "30/30 [==============================] - 12s 397ms/step - loss: 0.1264 - accuracy: 0.9591 - val_loss: 0.0144 - val_accuracy: 1.0000\n",
            "Epoch 8/20\n",
            "30/30 [==============================] - 10s 331ms/step - loss: 0.0856 - accuracy: 0.9717 - val_loss: 0.0061 - val_accuracy: 0.9958\n",
            "Epoch 9/20\n",
            "30/30 [==============================] - 13s 405ms/step - loss: 0.1334 - accuracy: 0.9476 - val_loss: 0.0350 - val_accuracy: 1.0000\n",
            "Epoch 10/20\n",
            "30/30 [==============================] - 11s 375ms/step - loss: 0.1048 - accuracy: 0.9686 - val_loss: 0.0233 - val_accuracy: 0.9916\n",
            "Epoch 11/20\n",
            "30/30 [==============================] - 10s 339ms/step - loss: 0.0797 - accuracy: 0.9696 - val_loss: 0.0130 - val_accuracy: 0.9958\n"
          ]
        }
      ],
      "source": [
        "history_1 = model.fit(\n",
        "    train_set,\n",
        "    validation_data = validation_set,\n",
        "    callbacks = [callback],\n",
        "    epochs = 20\n",
        ")"
      ]
    },
    {
      "cell_type": "markdown",
      "source": [
        "# Building the Second Model\n",
        "\n",
        "This is a convolutional neural network that consists of two convolutional and maxpooling layers that then fully connect to two dense layers. The bath normalization and dropout are used to reduce overfitting."
      ],
      "metadata": {
        "id": "2VxjQXXEyC6A"
      }
    },
    {
      "cell_type": "code",
      "execution_count": 18,
      "metadata": {
        "id": "Iu_gegpt12XU"
      },
      "outputs": [],
      "source": [
        "model_conv  = tf.keras.Sequential([\n",
        "    keras.layers.Conv2D(64, (3, 3), activation='relu'),\n",
        "    keras.layers.BatchNormalization(),\n",
        "    keras.layers.MaxPooling2D((2,2)),\n",
        "    keras.layers.Conv2D(128, (3, 3), activation='relu'),\n",
        "    keras.layers.BatchNormalization(),\n",
        "    keras.layers.MaxPooling2D((2,2)),\n",
        "    keras.layers.Flatten(),\n",
        "    keras.layers.Dense(64, activation = 'relu'),\n",
        "    keras.layers.Dropout(0.2),\n",
        "    keras.layers.Dense(8, activation = 'linear')\n",
        "])"
      ]
    },
    {
      "cell_type": "code",
      "source": [
        "model_conv.summary()"
      ],
      "metadata": {
        "colab": {
          "base_uri": "https://localhost:8080/"
        },
        "id": "RuXVhcIKqG1g",
        "outputId": "ff038668-d977-4aff-8150-0ccf5a01761f"
      },
      "execution_count": 138,
      "outputs": [
        {
          "output_type": "stream",
          "name": "stdout",
          "text": [
            "Model: \"sequential_1\"\n",
            "_________________________________________________________________\n",
            " Layer (type)                Output Shape              Param #   \n",
            "=================================================================\n",
            " conv2d (Conv2D)             (None, None, None, 64)    1792      \n",
            "                                                                 \n",
            " batch_normalization (BatchN  (None, None, None, 64)   256       \n",
            " ormalization)                                                   \n",
            "                                                                 \n",
            " max_pooling2d (MaxPooling2D  (None, None, None, 64)   0         \n",
            " )                                                               \n",
            "                                                                 \n",
            " conv2d_1 (Conv2D)           (None, None, None, 128)   73856     \n",
            "                                                                 \n",
            " batch_normalization_1 (Batc  (None, None, None, 128)  512       \n",
            " hNormalization)                                                 \n",
            "                                                                 \n",
            " max_pooling2d_1 (MaxPooling  (None, None, None, 128)  0         \n",
            " 2D)                                                             \n",
            "                                                                 \n",
            " flatten_1 (Flatten)         (None, None)              0         \n",
            "                                                                 \n",
            " dense_3 (Dense)             (None, 64)                17268800  \n",
            "                                                                 \n",
            " dropout_1 (Dropout)         (None, 64)                0         \n",
            "                                                                 \n",
            " dense_4 (Dense)             (None, 8)                 520       \n",
            "                                                                 \n",
            "=================================================================\n",
            "Total params: 17,345,736\n",
            "Trainable params: 17,345,352\n",
            "Non-trainable params: 384\n",
            "_________________________________________________________________\n"
          ]
        }
      ]
    },
    {
      "cell_type": "code",
      "execution_count": 19,
      "metadata": {
        "id": "tsjm7hd26ZGM"
      },
      "outputs": [],
      "source": [
        "model_conv.compile(\n",
        "    optimizer = 'adam',\n",
        "    loss = tf.keras.losses.SparseCategoricalCrossentropy(from_logits = True),\n",
        "    metrics = ['accuracy']\n",
        ")"
      ]
    },
    {
      "cell_type": "code",
      "execution_count": 20,
      "metadata": {
        "colab": {
          "base_uri": "https://localhost:8080/"
        },
        "id": "mjZjIrjr6tCN",
        "outputId": "24dce075-09ed-4f8e-e1cd-a5311d370c34"
      },
      "outputs": [
        {
          "output_type": "stream",
          "name": "stdout",
          "text": [
            "Epoch 1/20\n",
            "30/30 [==============================] - 248s 8s/step - loss: 15.2096 - accuracy: 0.8061 - val_loss: 57.1141 - val_accuracy: 0.6765\n",
            "Epoch 2/20\n",
            "30/30 [==============================] - 244s 8s/step - loss: 0.5447 - accuracy: 0.9769 - val_loss: 17.4014 - val_accuracy: 0.7227\n",
            "Epoch 3/20\n",
            "30/30 [==============================] - 240s 8s/step - loss: 0.2572 - accuracy: 0.9885 - val_loss: 0.0011 - val_accuracy: 1.0000\n",
            "Epoch 4/20\n",
            "30/30 [==============================] - 239s 8s/step - loss: 0.0167 - accuracy: 0.9969 - val_loss: 1.6028e-08 - val_accuracy: 1.0000\n",
            "Epoch 5/20\n",
            "30/30 [==============================] - 241s 8s/step - loss: 0.0970 - accuracy: 0.9969 - val_loss: 0.0000e+00 - val_accuracy: 1.0000\n",
            "Epoch 6/20\n",
            "30/30 [==============================] - 245s 8s/step - loss: 0.0305 - accuracy: 0.9969 - val_loss: 5.0088e-10 - val_accuracy: 1.0000\n"
          ]
        }
      ],
      "source": [
        "history_conv = model_conv.fit(\n",
        "    train_set,\n",
        "    validation_data = validation_set,\n",
        "    callbacks = [callback],\n",
        "    epochs = 20\n",
        ")"
      ]
    },
    {
      "cell_type": "markdown",
      "source": [
        "# Comparing the Two Models"
      ],
      "metadata": {
        "id": "xYLGJQqc0rvI"
      }
    },
    {
      "cell_type": "code",
      "source": [
        "figure, axis = plt.subplots(2, 2)\n",
        "figure.tight_layout(pad = 3.0)\n",
        "\n",
        "axis[0, 0].plot(history_1.history['loss'], label = 'Dense')\n",
        "axis[0, 0].plot(history_conv.history['loss'], label = 'CNN')\n",
        "axis[0, 0].legend(fontsize=\"10\")\n",
        "axis[0, 0].set(xlabel = 'epochs', ylabel = 'loss', title = 'Training Loss')\n",
        "\n",
        "axis[0, 1].plot(history_1.history['accuracy'], label = 'Dense')\n",
        "axis[0, 1].plot(history_conv.history['accuracy'], label = 'CNN')\n",
        "axis[0, 1].legend(fontsize=\"10\")\n",
        "axis[0, 1].set(xlabel = 'epochs', ylabel = 'accuracy', title = 'Training Accuracy')\n",
        "\n",
        "axis[1, 0].plot(history_1.history['val_loss'], label = 'Dense')\n",
        "axis[1, 0].plot(history_conv.history['val_loss'], label = 'CNN')\n",
        "axis[1, 0].legend(fontsize=\"10\")\n",
        "axis[1, 0].set(xlabel = 'epochs', ylabel = 'loss', title = 'Validation Loss')\n",
        "\n",
        "axis[1, 1].plot(history_1.history['val_accuracy'], label = 'Dense')\n",
        "axis[1, 1].plot(history_conv.history['val_accuracy'], label = 'CNN')\n",
        "axis[1, 1].legend(fontsize=\"10\")\n",
        "axis[1, 1].set(xlabel = 'epochs', ylabel = 'accuracy', title = 'Validation Accuracy')\n",
        "\n"
      ],
      "metadata": {
        "id": "-8Oj00IhCPgJ",
        "colab": {
          "base_uri": "https://localhost:8080/",
          "height": 522
        },
        "outputId": "bb67d739-c9bd-4290-8f0e-a29fffb8459f"
      },
      "execution_count": 39,
      "outputs": [
        {
          "output_type": "execute_result",
          "data": {
            "text/plain": [
              "[Text(0.5, 23.52222222222222, 'epochs'),\n",
              " Text(313.26767676767673, 0.5, 'accuracy'),\n",
              " Text(0.5, 1.0, 'Validation Accuracy')]"
            ]
          },
          "metadata": {},
          "execution_count": 39
        },
        {
          "output_type": "display_data",
          "data": {
            "text/plain": [
              "<Figure size 640x480 with 4 Axes>"
            ],
            "image/png": "[encoded data removed]"
          },
          "metadata": {}
        }
      ]
    },
    {
      "cell_type": "markdown",
      "source": [
        "While both models achieved a 100% validation accuracy, the CNN model converged in a fewer number of epochs and was more stable after convergence."
      ],
      "metadata": {
        "id": "wsFGEO6C03Gq"
      }
    },
    {
      "cell_type": "markdown",
      "source": [
        "# Making Predictions"
      ],
      "metadata": {
        "id": "uUJUdMAK1afK"
      }
    },
    {
      "cell_type": "code",
      "source": [
        "def prediction(model, image, full_data):\n",
        "  img = tf.keras.utils.image_dataset_from_directory(image,\n",
        "                                              image_size = (image_height, image_width),\n",
        "                                              batch_size = 1,\n",
        "                                              validation_split = 0\n",
        "                                              )\n",
        "  model_prediction = model.predict(img)\n",
        "  propability = tf.nn.softmax(model_prediction)\n",
        "  index = np.argmax(propability)\n",
        "  return f'The planet is {full_data.class_names[index]}'\n",
        "\n",
        "\n"
      ],
      "metadata": {
        "id": "PIPDdm2ShBnd"
      },
      "execution_count": 132,
      "outputs": []
    },
    {
      "cell_type": "code",
      "source": [
        "prediction(model, '/content/drive/MyDrive/Venus_Test', training_set)"
      ],
      "metadata": {
        "colab": {
          "base_uri": "https://localhost:8080/",
          "height": 70
        },
        "id": "kRVx3efOADep",
        "outputId": "1f8cc6a6-a32d-4022-9f4c-5c2099be6068"
      },
      "execution_count": 134,
      "outputs": [
        {
          "output_type": "stream",
          "name": "stdout",
          "text": [
            "Found 1 files belonging to 1 classes.\n",
            "1/1 [==============================] - 0s 327ms/step\n"
          ]
        },
        {
          "output_type": "execute_result",
          "data": {
            "text/plain": [
              "'The planet is Venus'"
            ],
            "application/vnd.google.colaboratory.intrinsic+json": {
              "type": "string"
            }
          },
          "metadata": {},
          "execution_count": 134
        }
      ]
    },
    {
      "cell_type": "code",
      "source": [
        "prediction(model, '/content/drive/MyDrive/Jupiter_Test', training_set)"
      ],
      "metadata": {
        "colab": {
          "base_uri": "https://localhost:8080/",
          "height": 70
        },
        "id": "OPVJdeBN2AAe",
        "outputId": "4d0c0451-2bd7-4e63-c442-b1bdc333a0f0"
      },
      "execution_count": 142,
      "outputs": [
        {
          "output_type": "stream",
          "name": "stdout",
          "text": [
            "Found 1 files belonging to 1 classes.\n",
            "1/1 [==============================] - 0s 309ms/step\n"
          ]
        },
        {
          "output_type": "execute_result",
          "data": {
            "text/plain": [
              "'The planet is Jupiter'"
            ],
            "application/vnd.google.colaboratory.intrinsic+json": {
              "type": "string"
            }
          },
          "metadata": {},
          "execution_count": 142
        }
      ]
    }
  ],
  "metadata": {
    "accelerator": "TPU",
    "colab": {
      "provenance": [],
      "mount_file_id": "1Iyf4zO1vMJL3YOn-fyR8sqWa-bIY3HGB",
      "authorship_tag": "ABX9TyMpfB82M0aX1LuPhJtFSyUz",
      "include_colab_link": true
    },
    "kernelspec": {
      "display_name": "Python 3",
      "name": "python3"
    },
    "language_info": {
      "name": "python"
    }
  },
  "nbformat": 4,
  "nbformat_minor": 0
}